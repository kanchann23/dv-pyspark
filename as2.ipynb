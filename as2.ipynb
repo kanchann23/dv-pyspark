{
 "cells": [
  {
   "cell_type": "code",
   "execution_count": 18,
   "metadata": {
    "colab": {
     "base_uri": "https://localhost:8080/"
    },
    "executionInfo": {
     "elapsed": 6329,
     "status": "ok",
     "timestamp": 1689095927609,
     "user": {
      "displayName": "Udit Sharma",
      "userId": "11438551664620345462"
     },
     "user_tz": -330
    },
    "id": "ZPkvd9VI0cTR",
    "outputId": "cfadcf01-ea30-432b-cbab-32671c8dcc72"
   },
   "outputs": [
    {
     "name": "stdout",
     "output_type": "stream",
     "text": [
      "Requirement already satisfied: pyspark in /usr/local/lib/python3.10/dist-packages (3.4.1)\n",
      "Requirement already satisfied: py4j==0.10.9.7 in /usr/local/lib/python3.10/dist-packages (from pyspark) (0.10.9.7)\n"
     ]
    }
   ],
   "source": [
    "pip install pyspark"
   ]
  },
  {
   "cell_type": "code",
   "execution_count": 19,
   "metadata": {
    "executionInfo": {
     "elapsed": 11,
     "status": "ok",
     "timestamp": 1689095927609,
     "user": {
      "displayName": "Udit Sharma",
      "userId": "11438551664620345462"
     },
     "user_tz": -330
    },
    "id": "oROv5mNN0gFy"
   },
   "outputs": [],
   "source": [
    "import pyspark\n",
    "import pandas as pd"
   ]
  },
  {
   "cell_type": "code",
   "execution_count": 20,
   "metadata": {
    "executionInfo": {
     "elapsed": 11,
     "status": "ok",
     "timestamp": 1689095927609,
     "user": {
      "displayName": "Udit Sharma",
      "userId": "11438551664620345462"
     },
     "user_tz": -330
    },
    "id": "ixW53fpi0y0n"
   },
   "outputs": [],
   "source": [
    "from pyspark.sql import SparkSession"
   ]
  },
  {
   "cell_type": "code",
   "execution_count": 21,
   "metadata": {
    "executionInfo": {
     "elapsed": 10,
     "status": "ok",
     "timestamp": 1689095927609,
     "user": {
      "displayName": "Udit Sharma",
      "userId": "11438551664620345462"
     },
     "user_tz": -330
    },
    "id": "j2RmtGIM039B"
   },
   "outputs": [],
   "source": [
    "spark = SparkSession.builder.getOrCreate()"
   ]
  },
  {
   "cell_type": "code",
   "execution_count": 22,
   "metadata": {
    "colab": {
     "base_uri": "https://localhost:8080/"
    },
    "executionInfo": {
     "elapsed": 1166,
     "status": "ok",
     "timestamp": 1689095928765,
     "user": {
      "displayName": "Udit Sharma",
      "userId": "11438551664620345462"
     },
     "user_tz": -330
    },
    "id": "tUgl4fJE1Cvy",
    "outputId": "03a58cbd-7d69-4456-c5b4-f57dcb601ea9"
   },
   "outputs": [
    {
     "name": "stdout",
     "output_type": "stream",
     "text": [
      "+-----------+------------------+---+----------------+\n",
      "|customer_id|              name|age|purchase_history|\n",
      "+-----------+------------------+---+----------------+\n",
      "|          1|          John Doe| 32|               1|\n",
      "|          2|        Jane Smith| 45|               3|\n",
      "|          3|   Michael Johnson| 28|               2|\n",
      "|          4|       Emily Davis| 50|               1|\n",
      "|          5|     Robert Wilson| 35|               3|\n",
      "|          6|       Emma Taylor| 22|               2|\n",
      "|          7|    David Anderson| 40|               1|\n",
      "|          8|       Sarah Brown| 29|               3|\n",
      "|          9|  Matthew Thompson| 37|               2|\n",
      "|         10|   Olivia Martinez| 33|               1|\n",
      "|         11|    William Garcia| 26|               3|\n",
      "|         12|   Sophia Robinson| 48|               2|\n",
      "|         13|         James Lee| 31|               1|\n",
      "|         14|Isabella Rodriguez| 39|               3|\n",
      "|         15|  Joseph Hernandez| 42|               2|\n",
      "|         16|      Emily Wright| 27|               1|\n",
      "|         17|      David Martin| 30|               3|\n",
      "|         18|   Sophia Anderson| 36|               2|\n",
      "|         19|     Oliver Thomas| 43|               1|\n",
      "|         20|         Ava White| 34|               3|\n",
      "+-----------+------------------+---+----------------+\n",
      "\n"
     ]
    }
   ],
   "source": [
    "customerDF = spark.read.csv(\"customer_data.csv\",header = True,inferSchema = True)\n",
    "customerDF.show()"
   ]
  },
  {
   "cell_type": "code",
   "execution_count": 23,
   "metadata": {
    "colab": {
     "base_uri": "https://localhost:8080/"
    },
    "executionInfo": {
     "elapsed": 748,
     "status": "ok",
     "timestamp": 1689095929512,
     "user": {
      "displayName": "Udit Sharma",
      "userId": "11438551664620345462"
     },
     "user_tz": -330
    },
    "id": "4bzrqmdD27E_",
    "outputId": "d1fa6f05-b841-47a2-f78d-ae956417f887"
   },
   "outputs": [
    {
     "name": "stdout",
     "output_type": "stream",
     "text": [
      "+----------+----------+-----------+-----+\n",
      "|product_id|      name|   category|price|\n",
      "+----------+----------+-----------+-----+\n",
      "|         1|    Laptop|Electronics| 1200|\n",
      "|         2|     Shirt|   Clothing|   30|\n",
      "|         3|      Book|      Books|   15|\n",
      "|         4|Headphones|Electronics|  100|\n",
      "|         5|     Dress|   Clothing|   50|\n",
      "|         6|Smartphone|Electronics|  800|\n",
      "|         7|     Jeans|   Clothing|   40|\n",
      "|         8|    Tablet|Electronics|  500|\n",
      "|         9|     Watch|   Clothing|  100|\n",
      "|        10|   Speaker|Electronics|   80|\n",
      "|        11|     Skirt|   Clothing|   35|\n",
      "|        12|     Novel|      Books|   20|\n",
      "|        13|        TV|Electronics| 1500|\n",
      "|        14|  Sneakers|   Clothing|   60|\n",
      "|        15|   Headset|Electronics|   70|\n",
      "|        16|    Shorts|   Clothing|   25|\n",
      "|        17|     Mouse|Electronics|   20|\n",
      "|        18|       Hat|   Clothing|   15|\n",
      "|        19|  Keyboard|Electronics|   40|\n",
      "|        20|     Pants|   Clothing|   45|\n",
      "+----------+----------+-----------+-----+\n",
      "\n"
     ]
    }
   ],
   "source": [
    "productDF = spark.read.csv(\"product_data.csv\",header = True)\n",
    "productDF.show()"
   ]
  },
  {
   "cell_type": "code",
   "execution_count": 24,
   "metadata": {
    "colab": {
     "base_uri": "https://localhost:8080/"
    },
    "executionInfo": {
     "elapsed": 932,
     "status": "ok",
     "timestamp": 1689095930443,
     "user": {
      "displayName": "Udit Sharma",
      "userId": "11438551664620345462"
     },
     "user_tz": -330
    },
    "id": "q3Y7nz8C3Q2M",
    "outputId": "27b05285-d39a-4f33-e81a-97c028c94fb4"
   },
   "outputs": [
    {
     "name": "stdout",
     "output_type": "stream",
     "text": [
      "+-----------+---------------+---+----------------+----------+------+-----------+-----+\n",
      "|customer_id|           name|age|purchase_history|product_id|  name|   category|price|\n",
      "+-----------+---------------+---+----------------+----------+------+-----------+-----+\n",
      "|          1|       John Doe| 32|               1|         1|Laptop|Electronics| 1200|\n",
      "|          4|    Emily Davis| 50|               1|         1|Laptop|Electronics| 1200|\n",
      "|          7| David Anderson| 40|               1|         1|Laptop|Electronics| 1200|\n",
      "|         10|Olivia Martinez| 33|               1|         1|Laptop|Electronics| 1200|\n",
      "|         13|      James Lee| 31|               1|         1|Laptop|Electronics| 1200|\n",
      "|         16|   Emily Wright| 27|               1|         1|Laptop|Electronics| 1200|\n",
      "|         19|  Oliver Thomas| 43|               1|         1|Laptop|Electronics| 1200|\n",
      "+-----------+---------------+---+----------------+----------+------+-----------+-----+\n",
      "\n"
     ]
    }
   ],
   "source": [
    "#customerDF.filter((productDF[\"category\"] == 'Electronics') & (customerDF[\"purchase_history\"] == productDF[\"product_id\"])).show()\n",
    "\n",
    "df = customerDF.join(productDF, customerDF[\"purchase_history\"] == productDF[\"product_id\"]).filter(productDF[\"category\"] == 'Electronics')\n",
    "df.show()"
   ]
  },
  {
   "cell_type": "code",
   "execution_count": 24,
   "metadata": {
    "executionInfo": {
     "elapsed": 13426,
     "status": "ok",
     "timestamp": 1689096363884,
     "user": {
      "displayName": "Udit Sharma",
      "userId": "11438551664620345462"
     },
     "user_tz": -330
    },
    "id": "K_JtS-DI6Ms9"
   },
   "outputs": [],
   "source": []
  },
  {
   "cell_type": "code",
   "execution_count": 40,
   "metadata": {
    "executionInfo": {
     "elapsed": 516,
     "status": "ok",
     "timestamp": 1689096937993,
     "user": {
      "displayName": "Udit Sharma",
      "userId": "11438551664620345462"
     },
     "user_tz": -330
    },
    "id": "0bqejJ9X_FgU"
   },
   "outputs": [],
   "source": [
    "from pyspark.ml.feature import StringIndexer"
   ]
  },
  {
   "cell_type": "code",
   "execution_count": 43,
   "metadata": {
    "colab": {
     "base_uri": "https://localhost:8080/"
    },
    "executionInfo": {
     "elapsed": 1100,
     "status": "ok",
     "timestamp": 1689096976105,
     "user": {
      "displayName": "Udit Sharma",
      "userId": "11438551664620345462"
     },
     "user_tz": -330
    },
    "id": "5xqXg2HG_rlL",
    "outputId": "09cb8e65-fc62-4690-cd1a-9b178f217696"
   },
   "outputs": [
    {
     "name": "stdout",
     "output_type": "stream",
     "text": [
      "+----------+----------+-----------+-----+-------------+\n",
      "|product_id|      name|   category|price|categoryIndex|\n",
      "+----------+----------+-----------+-----+-------------+\n",
      "|         1|    Laptop|Electronics| 1200|          1.0|\n",
      "|         2|     Shirt|   Clothing|   30|          0.0|\n",
      "|         3|      Book|      Books|   15|          2.0|\n",
      "|         4|Headphones|Electronics|  100|          1.0|\n",
      "|         5|     Dress|   Clothing|   50|          0.0|\n",
      "|         6|Smartphone|Electronics|  800|          1.0|\n",
      "|         7|     Jeans|   Clothing|   40|          0.0|\n",
      "|         8|    Tablet|Electronics|  500|          1.0|\n",
      "|         9|     Watch|   Clothing|  100|          0.0|\n",
      "|        10|   Speaker|Electronics|   80|          1.0|\n",
      "|        11|     Skirt|   Clothing|   35|          0.0|\n",
      "|        12|     Novel|      Books|   20|          2.0|\n",
      "|        13|        TV|Electronics| 1500|          1.0|\n",
      "|        14|  Sneakers|   Clothing|   60|          0.0|\n",
      "|        15|   Headset|Electronics|   70|          1.0|\n",
      "|        16|    Shorts|   Clothing|   25|          0.0|\n",
      "|        17|     Mouse|Electronics|   20|          1.0|\n",
      "|        18|       Hat|   Clothing|   15|          0.0|\n",
      "|        19|  Keyboard|Electronics|   40|          1.0|\n",
      "|        20|     Pants|   Clothing|   45|          0.0|\n",
      "+----------+----------+-----------+-----+-------------+\n",
      "\n"
     ]
    }
   ],
   "source": [
    "\n",
    "indexer = StringIndexer(inputCols=[\"category\"] , outputCols=[\"categoryIndex\"])\n",
    "df_r = indexer.fit(productDF).transform(productDF)\n",
    "df_r.show()\n"
   ]
  },
  {
   "cell_type": "code",
   "execution_count": 46,
   "metadata": {
    "colab": {
     "base_uri": "https://localhost:8080/"
    },
    "executionInfo": {
     "elapsed": 406,
     "status": "ok",
     "timestamp": 1689097407339,
     "user": {
      "displayName": "Udit Sharma",
      "userId": "11438551664620345462"
     },
     "user_tz": -330
    },
    "id": "5nZcaPlNBfVU",
    "outputId": "9180e483-5493-45ad-b6fd-6728b534a9e0"
   },
   "outputs": [
    {
     "name": "stdout",
     "output_type": "stream",
     "text": [
      "+-----------+------------------+---+----------------+----------+------+-----------+-----+\n",
      "|customer_id|              name|age|purchase_history|product_id|  name|   category|price|\n",
      "+-----------+------------------+---+----------------+----------+------+-----------+-----+\n",
      "|          1|          John Doe| 32|               1|         1|Laptop|Electronics| 1200|\n",
      "|          2|        Jane Smith| 45|               3|         3|  Book|      Books|   15|\n",
      "|          3|   Michael Johnson| 28|               2|         2| Shirt|   Clothing|   30|\n",
      "|          4|       Emily Davis| 50|               1|         1|Laptop|Electronics| 1200|\n",
      "|          5|     Robert Wilson| 35|               3|         3|  Book|      Books|   15|\n",
      "|          6|       Emma Taylor| 22|               2|         2| Shirt|   Clothing|   30|\n",
      "|          7|    David Anderson| 40|               1|         1|Laptop|Electronics| 1200|\n",
      "|          8|       Sarah Brown| 29|               3|         3|  Book|      Books|   15|\n",
      "|          9|  Matthew Thompson| 37|               2|         2| Shirt|   Clothing|   30|\n",
      "|         10|   Olivia Martinez| 33|               1|         1|Laptop|Electronics| 1200|\n",
      "|         11|    William Garcia| 26|               3|         3|  Book|      Books|   15|\n",
      "|         12|   Sophia Robinson| 48|               2|         2| Shirt|   Clothing|   30|\n",
      "|         13|         James Lee| 31|               1|         1|Laptop|Electronics| 1200|\n",
      "|         14|Isabella Rodriguez| 39|               3|         3|  Book|      Books|   15|\n",
      "|         15|  Joseph Hernandez| 42|               2|         2| Shirt|   Clothing|   30|\n",
      "|         16|      Emily Wright| 27|               1|         1|Laptop|Electronics| 1200|\n",
      "|         17|      David Martin| 30|               3|         3|  Book|      Books|   15|\n",
      "|         18|   Sophia Anderson| 36|               2|         2| Shirt|   Clothing|   30|\n",
      "|         19|     Oliver Thomas| 43|               1|         1|Laptop|Electronics| 1200|\n",
      "|         20|         Ava White| 34|               3|         3|  Book|      Books|   15|\n",
      "+-----------+------------------+---+----------------+----------+------+-----------+-----+\n",
      "\n"
     ]
    }
   ],
   "source": [
    "customerProductDF = customerDF.join(productDF , customerDF['purchase_history'] == productDF['product_id'])\n",
    "customerProductDF.show()"
   ]
  },
  {
   "cell_type": "code",
   "execution_count": 53,
   "metadata": {
    "colab": {
     "base_uri": "https://localhost:8080/"
    },
    "executionInfo": {
     "elapsed": 1232,
     "status": "ok",
     "timestamp": 1689098876698,
     "user": {
      "displayName": "Udit Sharma",
      "userId": "11438551664620345462"
     },
     "user_tz": -330
    },
    "id": "iqS5aWUOD7an",
    "outputId": "8bfb9e88-729b-4b85-95bd-d2df0335fd50"
   },
   "outputs": [
    {
     "name": "stdout",
     "output_type": "stream",
     "text": [
      "+-----------+------------------+---+----------------+----------+------+-----------+-----+----------------+\n",
      "|customer_id|              name|age|purchase_history|product_id|  name|   category|price|discounted_price|\n",
      "+-----------+------------------+---+----------------+----------+------+-----------+-----+----------------+\n",
      "|          1|          John Doe| 32|               1|         1|Laptop|Electronics| 1200|          1080.0|\n",
      "|          2|        Jane Smith| 45|               3|         3|  Book|      Books|   15|            13.5|\n",
      "|          3|   Michael Johnson| 28|               2|         2| Shirt|   Clothing|   30|              30|\n",
      "|          4|       Emily Davis| 50|               1|         1|Laptop|Electronics| 1200|          1080.0|\n",
      "|          5|     Robert Wilson| 35|               3|         3|  Book|      Books|   15|            13.5|\n",
      "|          6|       Emma Taylor| 22|               2|         2| Shirt|   Clothing|   30|              30|\n",
      "|          7|    David Anderson| 40|               1|         1|Laptop|Electronics| 1200|          1080.0|\n",
      "|          8|       Sarah Brown| 29|               3|         3|  Book|      Books|   15|              15|\n",
      "|          9|  Matthew Thompson| 37|               2|         2| Shirt|   Clothing|   30|            27.0|\n",
      "|         10|   Olivia Martinez| 33|               1|         1|Laptop|Electronics| 1200|          1080.0|\n",
      "|         11|    William Garcia| 26|               3|         3|  Book|      Books|   15|              15|\n",
      "|         12|   Sophia Robinson| 48|               2|         2| Shirt|   Clothing|   30|            27.0|\n",
      "|         13|         James Lee| 31|               1|         1|Laptop|Electronics| 1200|          1080.0|\n",
      "|         14|Isabella Rodriguez| 39|               3|         3|  Book|      Books|   15|            13.5|\n",
      "|         15|  Joseph Hernandez| 42|               2|         2| Shirt|   Clothing|   30|            27.0|\n",
      "|         16|      Emily Wright| 27|               1|         1|Laptop|Electronics| 1200|            1200|\n",
      "|         17|      David Martin| 30|               3|         3|  Book|      Books|   15|            13.5|\n",
      "|         18|   Sophia Anderson| 36|               2|         2| Shirt|   Clothing|   30|            27.0|\n",
      "|         19|     Oliver Thomas| 43|               1|         1|Laptop|Electronics| 1200|          1080.0|\n",
      "|         20|         Ava White| 34|               3|         3|  Book|      Books|   15|            13.5|\n",
      "+-----------+------------------+---+----------------+----------+------+-----------+-----+----------------+\n",
      "\n"
     ]
    }
   ],
   "source": [
    "from pyspark.sql.functions import when\n",
    "\n",
    "condition = customerProductDF['age'] < 30\n",
    "original_price = customerProductDF['price']\n",
    "\n",
    "customerProductDF = customerProductDF.withColumn('discounted_price',when(condition,original_price).otherwise(original_price * 0.9))\n",
    "customerProductDF.show()"
   ]
  },
  {
   "cell_type": "code",
   "execution_count": null,
   "metadata": {
    "id": "94ecAo8MImx2"
   },
   "outputs": [],
   "source": []
  }
 ],
 "metadata": {
  "colab": {
   "authorship_tag": "ABX9TyP1SmelHq6PJt7ADON1qPEs",
   "provenance": []
  },
  "kernelspec": {
   "display_name": "Python 3 (ipykernel)",
   "language": "python",
   "name": "python3"
  },
  "language_info": {
   "codemirror_mode": {
    "name": "ipython",
    "version": 3
   },
   "file_extension": ".py",
   "mimetype": "text/x-python",
   "name": "python",
   "nbconvert_exporter": "python",
   "pygments_lexer": "ipython3",
   "version": "3.10.6"
  }
 },
 "nbformat": 4,
 "nbformat_minor": 1
}
