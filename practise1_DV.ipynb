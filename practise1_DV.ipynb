{
 "cells": [
  {
   "cell_type": "code",
   "execution_count": 2,
   "metadata": {
    "colab": {
     "base_uri": "https://localhost:8080/"
    },
    "executionInfo": {
     "elapsed": 49066,
     "status": "ok",
     "timestamp": 1689051387613,
     "user": {
      "displayName": "Udit Sharma",
      "userId": "11438551664620345462"
     },
     "user_tz": -330
    },
    "id": "V70XfzKkFSl4",
    "outputId": "c704aa57-891b-4253-f832-52fc447d3028"
   },
   "outputs": [
    {
     "name": "stdout",
     "output_type": "stream",
     "text": [
      "Collecting pyspark\n",
      "  Downloading pyspark-3.4.1.tar.gz (310.8 MB)\n",
      "\u001b[2K     \u001b[90m━━━━━━━━━━━━━━━━━━━━━━━━━━━━━━━━━━━━━━━\u001b[0m \u001b[32m310.8/310.8 MB\u001b[0m \u001b[31m3.9 MB/s\u001b[0m eta \u001b[36m0:00:00\u001b[0m\n",
      "\u001b[?25h  Preparing metadata (setup.py) ... \u001b[?25l\u001b[?25hdone\n",
      "Requirement already satisfied: py4j==0.10.9.7 in /usr/local/lib/python3.10/dist-packages (from pyspark) (0.10.9.7)\n",
      "Building wheels for collected packages: pyspark\n",
      "  Building wheel for pyspark (setup.py) ... \u001b[?25l\u001b[?25hdone\n",
      "  Created wheel for pyspark: filename=pyspark-3.4.1-py2.py3-none-any.whl size=311285398 sha256=2fcb4c3cf3385738d2732bb3de5417527142859981b5aa04070a2c41ae135632\n",
      "  Stored in directory: /root/.cache/pip/wheels/0d/77/a3/ff2f74cc9ab41f8f594dabf0579c2a7c6de920d584206e0834\n",
      "Successfully built pyspark\n",
      "Installing collected packages: pyspark\n",
      "Successfully installed pyspark-3.4.1\n"
     ]
    }
   ],
   "source": [
    "pip install pyspark"
   ]
  },
  {
   "cell_type": "code",
   "execution_count": 3,
   "metadata": {
    "executionInfo": {
     "elapsed": 1,
     "status": "ok",
     "timestamp": 1689051394565,
     "user": {
      "displayName": "Udit Sharma",
      "userId": "11438551664620345462"
     },
     "user_tz": -330
    },
    "id": "GDDvVEaAGwNI"
   },
   "outputs": [],
   "source": [
    "import pyspark\n",
    "import pandas as pd"
   ]
  },
  {
   "cell_type": "code",
   "execution_count": 2,
   "metadata": {
    "colab": {
     "base_uri": "https://localhost:8080/",
     "height": 143
    },
    "executionInfo": {
     "elapsed": 525,
     "status": "ok",
     "timestamp": 1689051425493,
     "user": {
      "displayName": "Udit Sharma",
      "userId": "11438551664620345462"
     },
     "user_tz": -330
    },
    "id": "a9SGV244HW49",
    "outputId": "9f9eae82-da60-4201-f30e-7a96a25ec933"
   },
   "outputs": [
    {
     "ename": "NameError",
     "evalue": "name 'pd' is not defined",
     "output_type": "error",
     "traceback": [
      "\u001b[0;31m---------------------------------------------------------------------------\u001b[0m",
      "\u001b[0;31mNameError\u001b[0m                                 Traceback (most recent call last)",
      "Cell \u001b[0;32mIn[2], line 1\u001b[0m\n\u001b[0;32m----> 1\u001b[0m df \u001b[38;5;241m=\u001b[39m \u001b[43mpd\u001b[49m\u001b[38;5;241m.\u001b[39mread_csv(\u001b[38;5;124m'\u001b[39m\u001b[38;5;124mtest1.csv\u001b[39m\u001b[38;5;124m'\u001b[39m)\n\u001b[1;32m      2\u001b[0m df\u001b[38;5;241m.\u001b[39mhead()\n",
      "\u001b[0;31mNameError\u001b[0m: name 'pd' is not defined"
     ]
    }
   ],
   "source": [
    "df = pd.read_csv('namef.csv')\n",
    "df.head()"
   ]
  },
  {
   "cell_type": "code",
   "execution_count": 6,
   "metadata": {
    "executionInfo": {
     "elapsed": 8184,
     "status": "ok",
     "timestamp": 1689051435821,
     "user": {
      "displayName": "Udit Sharma",
      "userId": "11438551664620345462"
     },
     "user_tz": -330
    },
    "id": "Awd1BkVuHrbc"
   },
   "outputs": [],
   "source": [
    "from pyspark.sql import SparkSession\n",
    "spark = SparkSession.builder.appName('practise').getOrCreate()"
   ]
  },
  {
   "cell_type": "code",
   "execution_count": 7,
   "metadata": {
    "colab": {
     "base_uri": "https://localhost:8080/",
     "height": 219
    },
    "executionInfo": {
     "elapsed": 1399,
     "status": "ok",
     "timestamp": 1689051441506,
     "user": {
      "displayName": "Udit Sharma",
      "userId": "11438551664620345462"
     },
     "user_tz": -330
    },
    "id": "jYIrXM62Iu42",
    "outputId": "5c3bcab8-9c59-40d9-d998-71adb04f815a"
   },
   "outputs": [
    {
     "data": {
      "text/html": [
       "\n",
       "            <div>\n",
       "                <p><b>SparkSession - in-memory</b></p>\n",
       "                \n",
       "        <div>\n",
       "            <p><b>SparkContext</b></p>\n",
       "\n",
       "            <p><a href=\"http://46c932e91a3d:4040\">Spark UI</a></p>\n",
       "\n",
       "            <dl>\n",
       "              <dt>Version</dt>\n",
       "                <dd><code>v3.4.1</code></dd>\n",
       "              <dt>Master</dt>\n",
       "                <dd><code>local[*]</code></dd>\n",
       "              <dt>AppName</dt>\n",
       "                <dd><code>practise</code></dd>\n",
       "            </dl>\n",
       "        </div>\n",
       "        \n",
       "            </div>\n",
       "        "
      ],
      "text/plain": [
       "<pyspark.sql.session.SparkSession at 0x7f94dd5a88e0>"
      ]
     },
     "execution_count": 7,
     "metadata": {},
     "output_type": "execute_result"
    }
   ],
   "source": [
    "spark"
   ]
  },
  {
   "cell_type": "code",
   "execution_count": 8,
   "metadata": {
    "executionInfo": {
     "elapsed": 9154,
     "status": "ok",
     "timestamp": 1689051452390,
     "user": {
      "displayName": "Udit Sharma",
      "userId": "11438551664620345462"
     },
     "user_tz": -330
    },
    "id": "D1WY0ADCI0Rd"
   },
   "outputs": [],
   "source": [
    "df_pyspark = spark.read.csv('test1.csv',header = True)"
   ]
  },
  {
   "cell_type": "code",
   "execution_count": 9,
   "metadata": {
    "colab": {
     "base_uri": "https://localhost:8080/"
    },
    "executionInfo": {
     "elapsed": 10,
     "status": "ok",
     "timestamp": 1689051452390,
     "user": {
      "displayName": "Udit Sharma",
      "userId": "11438551664620345462"
     },
     "user_tz": -330
    },
    "id": "fGJZt33fI7tv",
    "outputId": "d4168fd3-8064-4f49-f480-a94b02ea0615"
   },
   "outputs": [
    {
     "name": "stdout",
     "output_type": "stream",
     "text": [
      "+-------+---+\n",
      "|   Name|Age|\n",
      "+-------+---+\n",
      "|  Krish| 31|\n",
      "|Shubham| 30|\n",
      "|  Kunal| 39|\n",
      "+-------+---+\n",
      "\n"
     ]
    }
   ],
   "source": [
    "df_pyspark.show()"
   ]
  },
  {
   "cell_type": "code",
   "execution_count": 10,
   "metadata": {
    "executionInfo": {
     "elapsed": 498,
     "status": "ok",
     "timestamp": 1689051454931,
     "user": {
      "displayName": "Udit Sharma",
      "userId": "11438551664620345462"
     },
     "user_tz": -330
    },
    "id": "T3fYCT8qJG-l"
   },
   "outputs": [],
   "source": [
    "#df_pyspark = spark.read.option('header','true').csv('test1.csv').show()"
   ]
  },
  {
   "cell_type": "code",
   "execution_count": 11,
   "metadata": {
    "colab": {
     "base_uri": "https://localhost:8080/"
    },
    "executionInfo": {
     "elapsed": 503,
     "status": "ok",
     "timestamp": 1689051459987,
     "user": {
      "displayName": "Udit Sharma",
      "userId": "11438551664620345462"
     },
     "user_tz": -330
    },
    "id": "mtqB5fB-Li-q",
    "outputId": "f9baa58d-881c-479b-d983-72ae9659fc51"
   },
   "outputs": [
    {
     "data": {
      "text/plain": [
       "pyspark.sql.dataframe.DataFrame"
      ]
     },
     "execution_count": 11,
     "metadata": {},
     "output_type": "execute_result"
    }
   ],
   "source": [
    "type(df_pyspark)"
   ]
  },
  {
   "cell_type": "code",
   "execution_count": 12,
   "metadata": {
    "colab": {
     "base_uri": "https://localhost:8080/"
    },
    "executionInfo": {
     "elapsed": 738,
     "status": "ok",
     "timestamp": 1689051466452,
     "user": {
      "displayName": "Udit Sharma",
      "userId": "11438551664620345462"
     },
     "user_tz": -330
    },
    "id": "aRjTNLloJwWN",
    "outputId": "0161c6d9-da85-46db-ce31-eb9684415842"
   },
   "outputs": [
    {
     "name": "stdout",
     "output_type": "stream",
     "text": [
      "root\n",
      " |-- Name: string (nullable = true)\n",
      " |-- Age: string (nullable = true)\n",
      "\n"
     ]
    }
   ],
   "source": [
    "df_pyspark.printSchema()"
   ]
  },
  {
   "cell_type": "code",
   "execution_count": 13,
   "metadata": {
    "executionInfo": {
     "elapsed": 2128,
     "status": "ok",
     "timestamp": 1689051474933,
     "user": {
      "displayName": "Udit Sharma",
      "userId": "11438551664620345462"
     },
     "user_tz": -330
    },
    "id": "F4nPrOOBKEsd"
   },
   "outputs": [],
   "source": [
    "df_pyspark2 = spark.read.csv('test2.csv',header = True,inferSchema = True)"
   ]
  },
  {
   "cell_type": "code",
   "execution_count": 14,
   "metadata": {
    "colab": {
     "base_uri": "https://localhost:8080/"
    },
    "executionInfo": {
     "elapsed": 534,
     "status": "ok",
     "timestamp": 1689051480587,
     "user": {
      "displayName": "Udit Sharma",
      "userId": "11438551664620345462"
     },
     "user_tz": -330
    },
    "id": "X-CEBXtkMxeE",
    "outputId": "d87d6110-93d5-4932-8898-64ac0c878dab"
   },
   "outputs": [
    {
     "name": "stdout",
     "output_type": "stream",
     "text": [
      "+-----+---+----------+\n",
      "| Name|Age|Experience|\n",
      "+-----+---+----------+\n",
      "|Rahul| 22|         3|\n",
      "| Aman| 32|         8|\n",
      "|Kunal| 54|        25|\n",
      "+-----+---+----------+\n",
      "\n"
     ]
    }
   ],
   "source": [
    "df_pyspark2.show()"
   ]
  },
  {
   "cell_type": "code",
   "execution_count": 15,
   "metadata": {
    "colab": {
     "base_uri": "https://localhost:8080/"
    },
    "executionInfo": {
     "elapsed": 784,
     "status": "ok",
     "timestamp": 1689051485822,
     "user": {
      "displayName": "Udit Sharma",
      "userId": "11438551664620345462"
     },
     "user_tz": -330
    },
    "id": "TDHzEqGeM8SW",
    "outputId": "096bffda-8aa7-4151-d6c7-1937ac93e16e"
   },
   "outputs": [
    {
     "name": "stdout",
     "output_type": "stream",
     "text": [
      "root\n",
      " |-- Name: string (nullable = true)\n",
      " |-- Age: integer (nullable = true)\n",
      " |-- Experience: integer (nullable = true)\n",
      "\n"
     ]
    }
   ],
   "source": [
    "df_pyspark2.printSchema()"
   ]
  },
  {
   "cell_type": "code",
   "execution_count": 16,
   "metadata": {
    "colab": {
     "base_uri": "https://localhost:8080/"
    },
    "executionInfo": {
     "elapsed": 2,
     "status": "ok",
     "timestamp": 1689051487735,
     "user": {
      "displayName": "Udit Sharma",
      "userId": "11438551664620345462"
     },
     "user_tz": -330
    },
    "id": "tJFzkfPQNH5-",
    "outputId": "c98506a3-1c5a-4263-c507-dae0e7aa602f"
   },
   "outputs": [
    {
     "data": {
      "text/plain": [
       "pyspark.sql.dataframe.DataFrame"
      ]
     },
     "execution_count": 16,
     "metadata": {},
     "output_type": "execute_result"
    }
   ],
   "source": [
    "type(df_pyspark2)"
   ]
  },
  {
   "cell_type": "code",
   "execution_count": 17,
   "metadata": {
    "colab": {
     "base_uri": "https://localhost:8080/"
    },
    "executionInfo": {
     "elapsed": 2,
     "status": "ok",
     "timestamp": 1689051489598,
     "user": {
      "displayName": "Udit Sharma",
      "userId": "11438551664620345462"
     },
     "user_tz": -330
    },
    "id": "CZKC9l96NUNT",
    "outputId": "f489deba-4194-4c9d-86c7-fa87e93f16e0"
   },
   "outputs": [
    {
     "name": "stdout",
     "output_type": "stream",
     "text": [
      "+-----+\n",
      "| Name|\n",
      "+-----+\n",
      "|Rahul|\n",
      "| Aman|\n",
      "|Kunal|\n",
      "+-----+\n",
      "\n"
     ]
    }
   ],
   "source": [
    "df_pyspark2.select('Name').show()"
   ]
  },
  {
   "cell_type": "code",
   "execution_count": 18,
   "metadata": {
    "colab": {
     "base_uri": "https://localhost:8080/"
    },
    "executionInfo": {
     "elapsed": 2,
     "status": "ok",
     "timestamp": 1689051492967,
     "user": {
      "displayName": "Udit Sharma",
      "userId": "11438551664620345462"
     },
     "user_tz": -330
    },
    "id": "7L9E0lmGNqT6",
    "outputId": "20f8f824-408b-40ba-a102-517f325e3dba"
   },
   "outputs": [
    {
     "data": {
      "text/plain": [
       "pyspark.sql.dataframe.DataFrame"
      ]
     },
     "execution_count": 18,
     "metadata": {},
     "output_type": "execute_result"
    }
   ],
   "source": [
    "type(df_pyspark2.select('Name'))"
   ]
  },
  {
   "cell_type": "code",
   "execution_count": 19,
   "metadata": {
    "colab": {
     "base_uri": "https://localhost:8080/"
    },
    "executionInfo": {
     "elapsed": 584,
     "status": "ok",
     "timestamp": 1689051495510,
     "user": {
      "displayName": "Udit Sharma",
      "userId": "11438551664620345462"
     },
     "user_tz": -330
    },
    "id": "yzFAb6eCNz9X",
    "outputId": "6f90473c-ba12-493f-fe85-5afbaf3a9204"
   },
   "outputs": [
    {
     "name": "stdout",
     "output_type": "stream",
     "text": [
      "+-----+---+\n",
      "| Name|Age|\n",
      "+-----+---+\n",
      "|Rahul| 22|\n",
      "| Aman| 32|\n",
      "|Kunal| 54|\n",
      "+-----+---+\n",
      "\n"
     ]
    }
   ],
   "source": [
    "df_pyspark2.select(['Name' , 'Age']).show()"
   ]
  },
  {
   "cell_type": "code",
   "execution_count": 20,
   "metadata": {
    "colab": {
     "base_uri": "https://localhost:8080/"
    },
    "executionInfo": {
     "elapsed": 2,
     "status": "ok",
     "timestamp": 1689051498789,
     "user": {
      "displayName": "Udit Sharma",
      "userId": "11438551664620345462"
     },
     "user_tz": -330
    },
    "id": "mnwmAlTaOnOg",
    "outputId": "a7632145-034b-487d-d4bc-5ddf91160864"
   },
   "outputs": [
    {
     "data": {
      "text/plain": [
       "[('Name', 'string'), ('Age', 'string')]"
      ]
     },
     "execution_count": 20,
     "metadata": {},
     "output_type": "execute_result"
    }
   ],
   "source": [
    "df_pyspark.dtypes"
   ]
  },
  {
   "cell_type": "code",
   "execution_count": 21,
   "metadata": {
    "colab": {
     "base_uri": "https://localhost:8080/"
    },
    "executionInfo": {
     "elapsed": 2308,
     "status": "ok",
     "timestamp": 1689051503388,
     "user": {
      "displayName": "Udit Sharma",
      "userId": "11438551664620345462"
     },
     "user_tz": -330
    },
    "id": "wfcnbsrrO5Bw",
    "outputId": "b17356d4-82f0-4b77-a963-1f4e032f5edf"
   },
   "outputs": [
    {
     "name": "stdout",
     "output_type": "stream",
     "text": [
      "+-------+-------+------------------+\n",
      "|summary|   Name|               Age|\n",
      "+-------+-------+------------------+\n",
      "|  count|      3|                 3|\n",
      "|   mean|   null|33.333333333333336|\n",
      "| stddev|   null| 4.932882862316247|\n",
      "|    min|  Krish|                30|\n",
      "|    max|Shubham|                39|\n",
      "+-------+-------+------------------+\n",
      "\n"
     ]
    }
   ],
   "source": [
    "df_pyspark.describe().show()"
   ]
  },
  {
   "cell_type": "code",
   "execution_count": 22,
   "metadata": {
    "executionInfo": {
     "elapsed": 1,
     "status": "ok",
     "timestamp": 1689051505054,
     "user": {
      "displayName": "Udit Sharma",
      "userId": "11438551664620345462"
     },
     "user_tz": -330
    },
    "id": "f_QhHkDPPFT6"
   },
   "outputs": [],
   "source": [
    "df_pyspark2 = df_pyspark2.withColumn('Experience after 2 years' , df_pyspark2['Experience']+2)"
   ]
  },
  {
   "cell_type": "code",
   "execution_count": 23,
   "metadata": {
    "colab": {
     "base_uri": "https://localhost:8080/"
    },
    "executionInfo": {
     "elapsed": 526,
     "status": "ok",
     "timestamp": 1689051509051,
     "user": {
      "displayName": "Udit Sharma",
      "userId": "11438551664620345462"
     },
     "user_tz": -330
    },
    "id": "xVB1F2mbP76i",
    "outputId": "35c2d844-9435-439a-d67b-ed5fd56d5582"
   },
   "outputs": [
    {
     "name": "stdout",
     "output_type": "stream",
     "text": [
      "+-----+---+----------+------------------------+\n",
      "| Name|Age|Experience|Experience after 2 years|\n",
      "+-----+---+----------+------------------------+\n",
      "|Rahul| 22|         3|                       5|\n",
      "| Aman| 32|         8|                      10|\n",
      "|Kunal| 54|        25|                      27|\n",
      "+-----+---+----------+------------------------+\n",
      "\n"
     ]
    }
   ],
   "source": [
    "df_pyspark2.show()"
   ]
  },
  {
   "cell_type": "code",
   "execution_count": 24,
   "metadata": {
    "colab": {
     "base_uri": "https://localhost:8080/"
    },
    "executionInfo": {
     "elapsed": 2,
     "status": "ok",
     "timestamp": 1689051511212,
     "user": {
      "displayName": "Udit Sharma",
      "userId": "11438551664620345462"
     },
     "user_tz": -330
    },
    "id": "aKZv2QWzQigF",
    "outputId": "d068958a-29b1-492a-f3ef-4ed62b36bcd6"
   },
   "outputs": [
    {
     "data": {
      "text/plain": [
       "DataFrame[Name: string, Age: int, Experience: int]"
      ]
     },
     "execution_count": 24,
     "metadata": {},
     "output_type": "execute_result"
    }
   ],
   "source": [
    "df_pyspark2.drop('Experience after 2 years')"
   ]
  },
  {
   "cell_type": "code",
   "execution_count": 25,
   "metadata": {
    "colab": {
     "base_uri": "https://localhost:8080/"
    },
    "executionInfo": {
     "elapsed": 777,
     "status": "ok",
     "timestamp": 1689051514513,
     "user": {
      "displayName": "Udit Sharma",
      "userId": "11438551664620345462"
     },
     "user_tz": -330
    },
    "id": "Wzvg5_wUQ23E",
    "outputId": "8c4d751e-1f6b-42c7-a5e0-bf3e50e17490"
   },
   "outputs": [
    {
     "name": "stdout",
     "output_type": "stream",
     "text": [
      "+-----+---+----------+------------------------+\n",
      "| Name|Age|Experience|Experience after 2 years|\n",
      "+-----+---+----------+------------------------+\n",
      "|Rahul| 22|         3|                       5|\n",
      "| Aman| 32|         8|                      10|\n",
      "|Kunal| 54|        25|                      27|\n",
      "+-----+---+----------+------------------------+\n",
      "\n"
     ]
    }
   ],
   "source": [
    "df_pyspark2.show()"
   ]
  },
  {
   "cell_type": "code",
   "execution_count": 26,
   "metadata": {
    "colab": {
     "base_uri": "https://localhost:8080/"
    },
    "executionInfo": {
     "elapsed": 2,
     "status": "ok",
     "timestamp": 1689051590789,
     "user": {
      "displayName": "Udit Sharma",
      "userId": "11438551664620345462"
     },
     "user_tz": -330
    },
    "id": "NIPSJ5R_Q6v8",
    "outputId": "be7646d3-5658-460e-adc8-7df1c3124504"
   },
   "outputs": [
    {
     "name": "stdout",
     "output_type": "stream",
     "text": [
      "+---------------+---+\n",
      "|New Name column|Age|\n",
      "+---------------+---+\n",
      "|          Krish| 31|\n",
      "|        Shubham| 30|\n",
      "|          Kunal| 39|\n",
      "+---------------+---+\n",
      "\n"
     ]
    }
   ],
   "source": [
    "df_pyspark.withColumnRenamed('Name','New Name column').show()"
   ]
  },
  {
   "cell_type": "code",
   "execution_count": 27,
   "metadata": {
    "colab": {
     "base_uri": "https://localhost:8080/"
    },
    "executionInfo": {
     "elapsed": 3,
     "status": "ok",
     "timestamp": 1689051601603,
     "user": {
      "displayName": "Udit Sharma",
      "userId": "11438551664620345462"
     },
     "user_tz": -330
    },
    "id": "i0vi9RlpUetk",
    "outputId": "96d2b884-501b-4f3d-f44c-d3fe03a7a545"
   },
   "outputs": [
    {
     "name": "stdout",
     "output_type": "stream",
     "text": [
      "+-------+---+\n",
      "|   Name|Age|\n",
      "+-------+---+\n",
      "|  Krish| 31|\n",
      "|Shubham| 30|\n",
      "|  Kunal| 39|\n",
      "+-------+---+\n",
      "\n"
     ]
    }
   ],
   "source": [
    "df_pyspark.show()"
   ]
  },
  {
   "cell_type": "code",
   "execution_count": null,
   "metadata": {
    "id": "kKjMP2p6UhN5"
   },
   "outputs": [],
   "source": []
  }
 ],
 "metadata": {
  "colab": {
   "authorship_tag": "ABX9TyOAVGW84X3vmfcO1JZZ+oqH",
   "provenance": []
  },
  "kernelspec": {
   "display_name": "Python 3 (ipykernel)",
   "language": "python",
   "name": "python3"
  },
  "language_info": {
   "codemirror_mode": {
    "name": "ipython",
    "version": 3
   },
   "file_extension": ".py",
   "mimetype": "text/x-python",
   "name": "python",
   "nbconvert_exporter": "python",
   "pygments_lexer": "ipython3",
   "version": "3.10.6"
  }
 },
 "nbformat": 4,
 "nbformat_minor": 1
}
