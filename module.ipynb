{
 "cells": [
  {
   "cell_type": "code",
   "execution_count": 23,
   "metadata": {
    "colab": {
     "base_uri": "https://localhost:8080/"
    },
    "executionInfo": {
     "elapsed": 6356,
     "status": "ok",
     "timestamp": 1689067447736,
     "user": {
      "displayName": "Udit Sharma",
      "userId": "11438551664620345462"
     },
     "user_tz": -330
    },
    "id": "e7DY2pdRNJx3",
    "outputId": "7b7fb53a-58fa-4f7b-fd4b-51c7f7bc48ed"
   },
   "outputs": [
    {
     "name": "stdout",
     "output_type": "stream",
     "text": [
      "Requirement already satisfied: pyspark in /usr/local/lib/python3.10/dist-packages (3.4.1)\n",
      "Requirement already satisfied: py4j==0.10.9.7 in /usr/local/lib/python3.10/dist-packages (from pyspark) (0.10.9.7)\n"
     ]
    }
   ],
   "source": [
    "!pip install pyspark"
   ]
  },
  {
   "cell_type": "code",
   "execution_count": 24,
   "metadata": {
    "executionInfo": {
     "elapsed": 4,
     "status": "ok",
     "timestamp": 1689067447736,
     "user": {
      "displayName": "Udit Sharma",
      "userId": "11438551664620345462"
     },
     "user_tz": -330
    },
    "id": "Zc2XOgAVNQ8n"
   },
   "outputs": [],
   "source": [
    "from pyspark.sql import SparkSession"
   ]
  },
  {
   "cell_type": "code",
   "execution_count": 25,
   "metadata": {
    "executionInfo": {
     "elapsed": 3,
     "status": "ok",
     "timestamp": 1689067447736,
     "user": {
      "displayName": "Udit Sharma",
      "userId": "11438551664620345462"
     },
     "user_tz": -330
    },
    "id": "8YGMwxtVOqjZ"
   },
   "outputs": [],
   "source": [
    "spark = SparkSession.builder.getOrCreate()"
   ]
  },
  {
   "cell_type": "code",
   "execution_count": 26,
   "metadata": {
    "colab": {
     "base_uri": "https://localhost:8080/"
    },
    "executionInfo": {
     "elapsed": 900,
     "status": "ok",
     "timestamp": 1689067448633,
     "user": {
      "displayName": "Udit Sharma",
      "userId": "11438551664620345462"
     },
     "user_tz": -330
    },
    "id": "AGHqZj4KPJk2",
    "outputId": "5764bd26-146a-4503-ec38-5cc75a5431d9"
   },
   "outputs": [
    {
     "name": "stdout",
     "output_type": "stream",
     "text": [
      "+------+----+----------+------+\n",
      "|  Name|Age |Experience|Salary|\n",
      "+------+----+----------+------+\n",
      "| Rohan|  23|         4| 30000|\n",
      "| Varun|  25|         5| 22500|\n",
      "|Tushar|  24|         6| 32000|\n",
      "|Vishal|  22|         2| 10000|\n",
      "|Chirag|  20|         4| 50000|\n",
      "| Mohit|  26|         5| 45000|\n",
      "| Soham|  22|         6| 65000|\n",
      "+------+----+----------+------+\n",
      "\n",
      "root\n",
      " |-- Name: string (nullable = true)\n",
      " |-- Age : integer (nullable = true)\n",
      " |-- Experience: integer (nullable = true)\n",
      " |-- Salary: integer (nullable = true)\n",
      "\n"
     ]
    }
   ],
   "source": [
    "df_pyspark = spark.read.csv('test4.csv',header = True,inferSchema = True)\n",
    "df_pyspark.show()\n",
    "df_pyspark.printSchema()"
   ]
  },
  {
   "cell_type": "code",
   "execution_count": 27,
   "metadata": {
    "colab": {
     "base_uri": "https://localhost:8080/"
    },
    "executionInfo": {
     "elapsed": 567,
     "status": "ok",
     "timestamp": 1689067449199,
     "user": {
      "displayName": "Udit Sharma",
      "userId": "11438551664620345462"
     },
     "user_tz": -330
    },
    "id": "J0iDyPQIPtrF",
    "outputId": "a3a74cf7-2a3d-4e29-c82f-d035af5ba096"
   },
   "outputs": [
    {
     "name": "stdout",
     "output_type": "stream",
     "text": [
      "+------+----+----------+------+\n",
      "|  Name|Age |Experience|Salary|\n",
      "+------+----+----------+------+\n",
      "| Rohan|  23|         4| 30000|\n",
      "| Varun|  25|         5| 22500|\n",
      "|Tushar|  24|         6| 32000|\n",
      "|Vishal|  22|         2| 10000|\n",
      "|Chirag|  20|         4| 50000|\n",
      "| Mohit|  26|         5| 45000|\n",
      "| Soham|  22|         6| 65000|\n",
      "+------+----+----------+------+\n",
      "\n"
     ]
    }
   ],
   "source": [
    "df_pyspark.show()"
   ]
  },
  {
   "cell_type": "code",
   "execution_count": 28,
   "metadata": {
    "executionInfo": {
     "elapsed": 6,
     "status": "ok",
     "timestamp": 1689067449200,
     "user": {
      "displayName": "Udit Sharma",
      "userId": "11438551664620345462"
     },
     "user_tz": -330
    },
    "id": "43TyRN6SPvrR"
   },
   "outputs": [],
   "source": [
    "#filter operations in pyspark"
   ]
  },
  {
   "cell_type": "code",
   "execution_count": 40,
   "metadata": {
    "colab": {
     "base_uri": "https://localhost:8080/"
    },
    "executionInfo": {
     "elapsed": 3,
     "status": "ok",
     "timestamp": 1689068046185,
     "user": {
      "displayName": "Udit Sharma",
      "userId": "11438551664620345462"
     },
     "user_tz": -330
    },
    "id": "iRfczc7DQliZ",
    "outputId": "00942ce6-00ed-486e-d298-8aeaa2c05d6f"
   },
   "outputs": [
    {
     "name": "stdout",
     "output_type": "stream",
     "text": [
      "+------+----+----------+------+\n",
      "|  Name|Age |Experience|Salary|\n",
      "+------+----+----------+------+\n",
      "| Rohan|  23|         4| 30000|\n",
      "| Varun|  25|         5| 22500|\n",
      "|Tushar|  24|         6| 32000|\n",
      "|Vishal|  22|         2| 10000|\n",
      "|Chirag|  20|         4| 50000|\n",
      "| Mohit|  26|         5| 45000|\n",
      "| Soham|  22|         6| 65000|\n",
      "+------+----+----------+------+\n",
      "\n"
     ]
    }
   ],
   "source": [
    "df_pyspark.show()"
   ]
  },
  {
   "cell_type": "code",
   "execution_count": 45,
   "metadata": {
    "colab": {
     "base_uri": "https://localhost:8080/"
    },
    "executionInfo": {
     "elapsed": 577,
     "status": "ok",
     "timestamp": 1689068122055,
     "user": {
      "displayName": "Udit Sharma",
      "userId": "11438551664620345462"
     },
     "user_tz": -330
    },
    "id": "cna1GypVQSms",
    "outputId": "5f0a004b-4623-4026-a8cd-1db5faebcb68"
   },
   "outputs": [
    {
     "name": "stdout",
     "output_type": "stream",
     "text": [
      "+------+----+\n",
      "|  Name|Age |\n",
      "+------+----+\n",
      "| Rohan|  23|\n",
      "| Varun|  25|\n",
      "|Tushar|  24|\n",
      "|Vishal|  22|\n",
      "+------+----+\n",
      "\n"
     ]
    }
   ],
   "source": [
    "### Salary of the people less than or equal to 20000\n",
    "df_pyspark.filter(\"Salary<=40000\").select(['Name','Age ']).show()"
   ]
  },
  {
   "cell_type": "code",
   "execution_count": 49,
   "metadata": {
    "colab": {
     "base_uri": "https://localhost:8080/"
    },
    "executionInfo": {
     "elapsed": 2,
     "status": "ok",
     "timestamp": 1689068185182,
     "user": {
      "displayName": "Udit Sharma",
      "userId": "11438551664620345462"
     },
     "user_tz": -330
    },
    "id": "x7y26KtDREov",
    "outputId": "86bea341-fe23-4d3c-d6e9-895033a546d1"
   },
   "outputs": [
    {
     "name": "stdout",
     "output_type": "stream",
     "text": [
      "+------+----+----------+------+\n",
      "|  Name|Age |Experience|Salary|\n",
      "+------+----+----------+------+\n",
      "| Rohan|  23|         4| 30000|\n",
      "|Vishal|  22|         2| 10000|\n",
      "|Chirag|  20|         4| 50000|\n",
      "+------+----+----------+------+\n",
      "\n"
     ]
    }
   ],
   "source": [
    "df_pyspark.filter(\"Experience<=4\").show()\n",
    "#select(['Name','Age ']).show()"
   ]
  },
  {
   "cell_type": "code",
   "execution_count": 51,
   "metadata": {
    "colab": {
     "base_uri": "https://localhost:8080/"
    },
    "executionInfo": {
     "elapsed": 2,
     "status": "ok",
     "timestamp": 1689068382616,
     "user": {
      "displayName": "Udit Sharma",
      "userId": "11438551664620345462"
     },
     "user_tz": -330
    },
    "id": "NugO-M8DTqyK",
    "outputId": "9db62e87-960e-48fc-99b3-023d2365d8e4"
   },
   "outputs": [
    {
     "name": "stdout",
     "output_type": "stream",
     "text": [
      "+------+----+----------+------+\n",
      "|  Name|Age |Experience|Salary|\n",
      "+------+----+----------+------+\n",
      "|Vishal|  22|         2| 10000|\n",
      "+------+----+----------+------+\n",
      "\n"
     ]
    }
   ],
   "source": [
    "df_pyspark.filter((df_pyspark['Salary'] <= 2000) | (df_pyspark['Experience'] <= 3)) .show()"
   ]
  },
  {
   "cell_type": "code",
   "execution_count": null,
   "metadata": {
    "id": "8BYH5x6fUf1Q"
   },
   "outputs": [],
   "source": []
  }
 ],
 "metadata": {
  "colab": {
   "authorship_tag": "ABX9TyO4bkPeWnudZNioXXrKUVx5",
   "provenance": []
  },
  "kernelspec": {
   "display_name": "Python 3 (ipykernel)",
   "language": "python",
   "name": "python3"
  },
  "language_info": {
   "codemirror_mode": {
    "name": "ipython",
    "version": 3
   },
   "file_extension": ".py",
   "mimetype": "text/x-python",
   "name": "python",
   "nbconvert_exporter": "python",
   "pygments_lexer": "ipython3",
   "version": "3.10.6"
  }
 },
 "nbformat": 4,
 "nbformat_minor": 1
}
